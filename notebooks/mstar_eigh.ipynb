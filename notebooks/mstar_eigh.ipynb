{
 "cells": [
  {
   "cell_type": "code",
   "execution_count": null,
   "id": "2e57c4c1",
   "metadata": {},
   "outputs": [],
   "source": [
    "import numpy as np\n",
    "import torch\n",
    "\n",
    "import os\n",
    "import sys\n",
    "\n",
    "sys.path.insert(0, \"./../\")\n",
    "from FileManager import FileManager\n",
    "import utils"
   ]
  },
  {
   "cell_type": "code",
   "execution_count": null,
   "id": "0de08af7",
   "metadata": {},
   "outputs": [
    {
     "name": "stdout",
     "output_type": "stream",
     "text": [
      "Computing M*... done.\n"
     ]
    }
   ],
   "source": [
    "VOCAB_SZ = 10_000\n",
    "data_dir = os.path.join(os.getenv(\"DATASETPATH\"), \"qwem\", \"enwiki500\")\n",
    "\n",
    "# VOCAB_SZ = 20_000\n",
    "# data_dir = os.path.join(os.getenv(\"DATASETPATH\"), \"qwem\", \"cocanow\")\n",
    "\n",
    "data_fm = FileManager(data_dir)\n",
    "\n",
    "word_counts = data_fm.load(\"word_counts.pickle\")\n",
    "vocab = utils.Vocabulary(word_counts[:VOCAB_SZ])\n",
    "unigram = vocab.counts / vocab.counts.sum()\n",
    "\n",
    "print(f\"Computing M*... \", end=\"\")\n",
    "corpus_stats = data_fm.load(\"corpus_stats.pickle\")\n",
    "cL = corpus_stats[\"context_len\"]\n",
    "Cij, Crwij = corpus_stats[\"counts\"], corpus_stats[\"counts_reweight\"]\n",
    "numcounts = Cij[:VOCAB_SZ, :VOCAB_SZ].sum()\n",
    "Pij = Crwij[:VOCAB_SZ, :VOCAB_SZ] / (numcounts * (cL + 1)/2)\n",
    "PiPj = np.outer(unigram, unigram)\n",
    "Mstar = 2*(Pij - PiPj)/(Pij + PiPj)\n",
    "print(\"done.\")"
   ]
  },
  {
   "cell_type": "code",
   "execution_count": 4,
   "id": "c8a42386",
   "metadata": {},
   "outputs": [
    {
     "name": "stdout",
     "output_type": "stream",
     "text": [
      "Computing eigenfeatures... done.\n"
     ]
    }
   ],
   "source": [
    "print(f\"Computing eigenfeatures... \", end=\"\")\n",
    "Mstar = torch.tensor(Mstar, dtype=torch.float64).cuda()\n",
    "eigvals, eigvecs = torch.linalg.eigh(Mstar)\n",
    "eigvals, eigvecs = eigvals.flip(dims=(0,)), eigvecs.flip(dims=(1,))\n",
    "assert torch.allclose(Mstar, eigvecs @ torch.diag(eigvals) @ eigvecs.T)\n",
    "eigvecs, eigvals = eigvecs.cpu().numpy(), eigvals.cpu().numpy()\n",
    "print(\"done.\")\n",
    "\n",
    "data_fm.set_filepath(f\"REC-eigh-V{VOCAB_SZ//1000}k\")\n",
    "data_fm.save(eigvecs, \"eigvecs.npy\")\n",
    "data_fm.save(eigvals, \"eigvals.npy\")"
   ]
  },
  {
   "cell_type": "code",
   "execution_count": 5,
   "id": "8622468e",
   "metadata": {},
   "outputs": [],
   "source": [
    "# eigvecs = data_fm.load(\"eigvecs.npy\")\n",
    "# eigvals = data_fm.load(\"eigvals.npy\")\n",
    "# Mstar_new = eigvecs @ np.diag(eigvals) @ eigvecs.T\n",
    "# assert np.allclose(Mstar_new, Mstar.cpu().numpy())"
   ]
  }
 ],
 "metadata": {
  "kernelspec": {
   "display_name": ".venv-torch (3.13.7)",
   "language": "python",
   "name": "python3"
  },
  "language_info": {
   "codemirror_mode": {
    "name": "ipython",
    "version": 3
   },
   "file_extension": ".py",
   "mimetype": "text/x-python",
   "name": "python",
   "nbconvert_exporter": "python",
   "pygments_lexer": "ipython3",
   "version": "3.13.7"
  }
 },
 "nbformat": 4,
 "nbformat_minor": 5
}
